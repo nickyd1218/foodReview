{
 "cells": [
  {
   "cell_type": "code",
   "execution_count": 28,
   "metadata": {},
   "outputs": [],
   "source": [
    "# Dependencies\n",
    "import tweepy\n",
    "from twython import Twython\n",
    "import numpy as np\n",
    "from twitter import Twitter, OAuth, TwitterHTTPError, TwitterStream\n",
    "\n",
    "\n",
    "# Twitter API Keys\n",
    "from config import (consumer_key, \n",
    "                    consumer_secret, \n",
    "                    access_token, \n",
    "                    access_token_secret)\n",
    "\n",
    "# Setup Tweepy API Authentication\n",
    "auth = tweepy.OAuthHandler(consumer_key, consumer_secret)\n",
    "auth.set_access_token(access_token, access_token_secret)\n",
    "api = tweepy.API(auth, parser=tweepy.parsers.JSONParser())\n",
    "\n",
    "oauth = OAuth(consumer_key, consumer_secret,  access_token, access_token_secret)"
   ]
  },
  {
   "cell_type": "code",
   "execution_count": 29,
   "metadata": {},
   "outputs": [],
   "source": [
    " # Import and Initialize Sentiment Analyzer\n",
    "from vaderSentiment.vaderSentiment import SentimentIntensityAnalyzer\n",
    "analyzer = SentimentIntensityAnalyzer()"
   ]
  },
  {
   "cell_type": "code",
   "execution_count": 57,
   "metadata": {},
   "outputs": [],
   "source": [
    "# Lists to hold sentiments\n",
    "compound_list1 = []\n",
    "positive_list1 = []\n",
    "negative_list1 = []\n",
    "neutral_list1 = []"
   ]
  },
  {
   "cell_type": "code",
   "execution_count": 58,
   "metadata": {},
   "outputs": [
    {
     "name": "stdout",
     "output_type": "stream",
     "text": [
      "dominickatravel\n",
      "1052753705345445889\n",
      "@VisitCA Absolutely! Oh I can’t forget visiting the best place @Bobboi_Gelato\n",
      "\n",
      "chezus\n",
      "1052236668604956672\n",
      "I cannot stop thinking or should I say craving this amazing gelato from @Bobboi_Gelato in La Jolla.  Thank you to M… https://t.co/UAfPPp6WYz\n",
      "\n"
     ]
    }
   ],
   "source": [
    "# Search for People Tweeting about Pokewan SD\n",
    "search_term1 = \"bobboi gelato\"\n",
    "\n",
    "# Create variable for holding the oldest tweet\n",
    "oldest_tweet1 = None\n",
    "\n",
    "# List to hold unique IDs\n",
    "unique_ids1 = []\n",
    "\n",
    "#List to hold unique tweets\n",
    "unique_tweets1 = []\n",
    "\n",
    "# Counter to keep track of the number of tweets retrieved\n",
    "counter = 0\n",
    "\n",
    "# Loop through 5 times (total of 500 tweets)\n",
    "for x in range(1):\n",
    "\n",
    "    # Retrieve 100 most recent tweets -- specifying a max_id\n",
    "    public_tweets1 = api.search(search_term1, \n",
    "                               count=10, \n",
    "                               since=\"2014-04-03\",\n",
    "                               lang=\"en\",\n",
    "                               result_type=\"all\", \n",
    "                               max_id=oldest_tweet1)    \n",
    "    \n",
    "\n",
    "    # Print Tweets\n",
    "    for tweet in public_tweets1[\"statuses\"]:\n",
    "\n",
    "        # Print the username\n",
    "        print(tweet[\"user\"][\"screen_name\"])\n",
    "\n",
    "        # Print the tweet id\n",
    "        print(tweet[\"id_str\"])\n",
    "\n",
    "        # Print the tweet text\n",
    "        print(tweet[\"text\"])\n",
    "        \n",
    "        #Add each tweet to list of tweets\n",
    "        unique_tweets1.append(tweet[\"text\"])\n",
    "        \n",
    "        print()\n",
    "        \n",
    "        # Append tweet_id to ids list if it doesn't already exist\n",
    "        # This allows checking for duplicate tweets\n",
    "        tweet_id = tweet[\"id\"]\n",
    "        \n",
    "        if tweet_id not in unique_ids1:\n",
    "            unique_ids1.append(tweet_id)\n",
    "       \n",
    "        # Reassign the the oldest tweet (i.e. the max_id)\n",
    "        # Subtract 1 so the previous oldest isn't included\n",
    "        # in the new search\n",
    "        \n",
    "        oldest_tweet1 = tweet_id - 1\n",
    "        \n",
    "        # Increase counter by 1\n",
    "        counter += 1"
   ]
  },
  {
   "cell_type": "code",
   "execution_count": 59,
   "metadata": {},
   "outputs": [],
   "source": [
    "for tweet in public_tweets1[\"statuses\"]:\n",
    "\n",
    "    # Run Vader Analysis on each tweet\n",
    "    compound = analyzer.polarity_scores(tweet[\"text\"])[\"compound\"]\n",
    "    pos = analyzer.polarity_scores(tweet[\"text\"])[\"pos\"]\n",
    "    neu = analyzer.polarity_scores(tweet[\"text\"])[\"neu\"]\n",
    "    neg = analyzer.polarity_scores(tweet[\"text\"])[\"neg\"]\n",
    "\n",
    "    # Add each value to the appropriate array\n",
    "    compound_list1.append(compound)\n",
    "    positive_list1.append(pos)\n",
    "    negative_list1.append(neg)\n",
    "    neutral_list1.append(neu)"
   ]
  },
  {
   "cell_type": "code",
   "execution_count": 60,
   "metadata": {},
   "outputs": [],
   "source": [
    " # Store the Average Sentiments\n",
    "sentiment = {\"Compound\": np.mean(compound_list1),\n",
    "             \"Positive\": np.mean(positive_list1),\n",
    "             \"Neutral\": np.mean(negative_list1),\n",
    "             \"Negative\": np.mean(neutral_list1)}"
   ]
  },
  {
   "cell_type": "code",
   "execution_count": 61,
   "metadata": {},
   "outputs": [
    {
     "name": "stdout",
     "output_type": "stream",
     "text": [
      "{'Compound': 0.67535, 'Positive': 0.325, 'Neutral': 0.074, 'Negative': 0.6015}\n"
     ]
    }
   ],
   "source": [
    " # Print the Sentiments\n",
    "print(sentiment)"
   ]
  },
  {
   "cell_type": "code",
   "execution_count": null,
   "metadata": {},
   "outputs": [],
   "source": []
  },
  {
   "cell_type": "code",
   "execution_count": null,
   "metadata": {},
   "outputs": [],
   "source": []
  },
  {
   "cell_type": "code",
   "execution_count": null,
   "metadata": {},
   "outputs": [],
   "source": []
  }
 ],
 "metadata": {
  "kernelspec": {
   "display_name": "Python 3",
   "language": "python",
   "name": "python3"
  },
  "language_info": {
   "codemirror_mode": {
    "name": "ipython",
    "version": 3
   },
   "file_extension": ".py",
   "mimetype": "text/x-python",
   "name": "python",
   "nbconvert_exporter": "python",
   "pygments_lexer": "ipython3",
   "version": "3.6.5"
  }
 },
 "nbformat": 4,
 "nbformat_minor": 2
}

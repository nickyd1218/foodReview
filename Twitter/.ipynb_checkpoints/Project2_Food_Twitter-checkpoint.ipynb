{
 "cells": [
  {
   "cell_type": "code",
   "execution_count": 1,
   "metadata": {},
   "outputs": [],
   "source": [
    "# Dependencies\n",
    "import tweepy\n",
    "import time\n",
    "from twython import Twython\n",
    "import matplotlib.pyplot as plt\n",
    "import numpy as np\n",
    "from twitter import Twitter, OAuth, TwitterHTTPError, TwitterStream\n",
    "\n",
    "\n",
    "# Twitter API Keys\n",
    "from config import (consumer_key, \n",
    "                    consumer_secret, \n",
    "                    access_token, \n",
    "                    access_token_secret)\n",
    "\n",
    "# Setup Tweepy API Authentication\n",
    "auth = tweepy.OAuthHandler(consumer_key, consumer_secret)\n",
    "auth.set_access_token(access_token, access_token_secret)\n",
    "api = tweepy.API(auth, parser=tweepy.parsers.JSONParser())\n",
    "\n",
    "oauth = OAuth(consumer_key, consumer_secret,  access_token, access_token_secret)\n"
   ]
  },
  {
   "cell_type": "code",
   "execution_count": 2,
   "metadata": {},
   "outputs": [],
   "source": [
    " # Import and Initialize Sentiment Analyzer\n",
    "from vaderSentiment.vaderSentiment import SentimentIntensityAnalyzer\n",
    "analyzer = SentimentIntensityAnalyzer()"
   ]
  },
  {
   "cell_type": "code",
   "execution_count": 3,
   "metadata": {},
   "outputs": [],
   "source": [
    "count = 100"
   ]
  },
  {
   "cell_type": "code",
   "execution_count": 4,
   "metadata": {},
   "outputs": [],
   "source": [
    "# Lists to hold sentiments\n",
    "compound_list = []\n",
    "positive_list = []\n",
    "negative_list = []\n",
    "neutral_list = []"
   ]
  },
  {
   "cell_type": "code",
   "execution_count": 5,
   "metadata": {},
   "outputs": [],
   "source": [
    "# Lists to hold sentiments\n",
    "compound_list2 = []\n",
    "positive_list2 = []\n",
    "negative_list2 = []\n",
    "neutral_list2 = []"
   ]
  },
  {
   "cell_type": "code",
   "execution_count": 6,
   "metadata": {},
   "outputs": [],
   "source": [
    "# Lists to hold sentiments\n",
    "compound_list3 = []\n",
    "positive_list3 = []\n",
    "negative_list3 = []\n",
    "neutral_list3 = []"
   ]
  },
  {
   "cell_type": "code",
   "execution_count": 7,
   "metadata": {},
   "outputs": [],
   "source": [
    "# Lists to hold sentiments\n",
    "compound_list4 = []\n",
    "positive_list4 = []\n",
    "negative_list4 = []\n",
    "neutral_list4 = []"
   ]
  },
  {
   "cell_type": "code",
   "execution_count": 8,
   "metadata": {},
   "outputs": [],
   "source": [
    "# Lists to hold sentiments\n",
    "compound_list5 = []\n",
    "positive_list5 = []\n",
    "negative_list5 = []\n",
    "neutral_list5 = []"
   ]
  },
  {
   "cell_type": "code",
   "execution_count": 9,
   "metadata": {},
   "outputs": [],
   "source": [
    "# Lists to hold sentiments\n",
    "compound_list6 = []\n",
    "positive_list6 = []\n",
    "negative_list6 = []\n",
    "neutral_list6 = []"
   ]
  },
  {
   "cell_type": "code",
   "execution_count": 10,
   "metadata": {},
   "outputs": [],
   "source": [
    "# Lists to hold sentiments\n",
    "compound_list7 = []\n",
    "positive_list7 = []\n",
    "negative_list7 = []\n",
    "neutral_list7 = []"
   ]
  },
  {
   "cell_type": "code",
   "execution_count": 11,
   "metadata": {},
   "outputs": [],
   "source": [
    "# Lists to hold sentiments\n",
    "compound_list8 = []\n",
    "positive_list8 = []\n",
    "negative_list8 = []\n",
    "neutral_list8 = []"
   ]
  },
  {
   "cell_type": "code",
   "execution_count": 12,
   "metadata": {},
   "outputs": [],
   "source": [
    "# Lists to hold sentiments\n",
    "compound_list9 = []\n",
    "positive_list9 = []\n",
    "negative_list9 = []\n",
    "neutral_list9 = []"
   ]
  },
  {
   "cell_type": "code",
   "execution_count": 13,
   "metadata": {},
   "outputs": [],
   "source": [
    "# Lists to hold sentiments\n",
    "compound_list10 = []\n",
    "positive_list10 = []\n",
    "negative_list10 = []\n",
    "neutral_list10 = []"
   ]
  },
  {
   "cell_type": "code",
   "execution_count": 14,
   "metadata": {},
   "outputs": [
    {
     "name": "stdout",
     "output_type": "stream",
     "text": [
      "princessroni27\n",
      "1055247099657302016\n",
      "As soon as I get back home I’m going to @pokewansd\n",
      "\n"
     ]
    }
   ],
   "source": [
    "# Search for People Tweeting about Pokewan SD\n",
    "search_term1 = \"pokewansd\"\n",
    "\n",
    "# Create variable for holding the oldest tweet\n",
    "oldest_tweet1 = None\n",
    "\n",
    "# List to hold unique IDs\n",
    "unique_ids1 = []\n",
    "\n",
    "#List to hold unique tweets\n",
    "unique_tweets1 = []\n",
    "\n",
    "# Counter to keep track of the number of tweets retrieved\n",
    "counter = 0\n",
    "\n",
    "# Loop through 5 times (total of 500 tweets)\n",
    "for x in range(1):\n",
    "\n",
    "    # Retrieve 100 most recent tweets -- specifying a max_id\n",
    "    public_tweets1 = api.search(search_term1, \n",
    "                               count=count, \n",
    "                               since=\"2014-04-03\",\n",
    "                               lang=\"en\",\n",
    "                               result_type=\"all\", \n",
    "                               max_id=oldest_tweet1)    \n",
    "    \n",
    "\n",
    "    # Print Tweets\n",
    "    for tweet in public_tweets1[\"statuses\"]:\n",
    "\n",
    "        # Print the username\n",
    "        print(tweet[\"user\"][\"screen_name\"])\n",
    "\n",
    "        # Print the tweet id\n",
    "        print(tweet[\"id_str\"])\n",
    "\n",
    "        # Print the tweet text\n",
    "        print(tweet[\"text\"])\n",
    "        \n",
    "        #Add each tweet to list of tweets\n",
    "        unique_tweets1.append(tweet[\"text\"])\n",
    "        \n",
    "        print()\n",
    "        \n",
    "        # Append tweet_id to ids list if it doesn't already exist\n",
    "        # This allows checking for duplicate tweets\n",
    "        tweet_id = tweet[\"id\"]\n",
    "        \n",
    "        if tweet_id not in unique_ids1:\n",
    "            unique_ids1.append(tweet_id)\n",
    "       \n",
    "        # Reassign the the oldest tweet (i.e. the max_id)\n",
    "        # Subtract 1 so the previous oldest isn't included\n",
    "        # in the new search\n",
    "        \n",
    "        oldest_tweet1 = tweet_id - 1\n",
    "        \n",
    "        # Increase counter by 1\n",
    "        counter += 1"
   ]
  },
  {
   "cell_type": "code",
   "execution_count": 15,
   "metadata": {},
   "outputs": [],
   "source": [
    "for tweet in public_tweets1[\"statuses\"]:\n",
    "\n",
    "    # Run Vader Analysis on each tweet\n",
    "    compound = analyzer.polarity_scores(tweet[\"text\"])[\"compound\"]\n",
    "    pos = analyzer.polarity_scores(tweet[\"text\"])[\"pos\"]\n",
    "    neu = analyzer.polarity_scores(tweet[\"text\"])[\"neu\"]\n",
    "    neg = analyzer.polarity_scores(tweet[\"text\"])[\"neg\"]\n",
    "\n",
    "    # Add each value to the appropriate array\n",
    "    compound_list.append(compound)\n",
    "    positive_list.append(pos)\n",
    "    negative_list.append(neg)\n",
    "    neutral_list.append(neu)"
   ]
  },
  {
   "cell_type": "code",
   "execution_count": 16,
   "metadata": {},
   "outputs": [],
   "source": [
    " # Store the Average Sentiments\n",
    "sentiment = {\"Compound\": np.mean(compound_list),\n",
    "             \"Positive\": np.mean(positive_list),\n",
    "             \"Neutral\": np.mean(negative_list),\n",
    "             \"Negative\": np.mean(neutral_list)}"
   ]
  },
  {
   "cell_type": "code",
   "execution_count": 17,
   "metadata": {},
   "outputs": [
    {
     "name": "stdout",
     "output_type": "stream",
     "text": [
      "{'Compound': 0.0, 'Positive': 0.0, 'Neutral': 0.0, 'Negative': 1.0}\n"
     ]
    }
   ],
   "source": [
    "Pokewan = sentiment\n",
    "print(sentiment)"
   ]
  },
  {
   "cell_type": "code",
   "execution_count": 18,
   "metadata": {},
   "outputs": [
    {
     "name": "stdout",
     "output_type": "stream",
     "text": [
      "meerabayaa\n",
      "1056605376454553601\n",
      "I miss @Bobboi_Gelato way too much #separationanxiety https://t.co/BOuutRjnDn\n",
      "\n",
      "carinafleckner\n",
      "1055917344491536384\n",
      "What's your favorite ice cream or gelato flavor? 🍨🍧\n",
      "If you live in San Diego, you have to try @Bobboi_Gelato in La… https://t.co/faP2nUrZ2v\n",
      "\n"
     ]
    }
   ],
   "source": [
    "# Search for People Tweeting about Bobboi Gelato\n",
    "search_term2 = \"bobboi gelato\"\n",
    "\n",
    "# Create variable for holding the oldest tweet\n",
    "oldest_tweet2 = None\n",
    "\n",
    "# List to hold unique IDs\n",
    "unique_ids2 = []\n",
    "\n",
    "#List to hold unique tweets\n",
    "unique_tweets2 = []\n",
    "\n",
    "# Counter to keep track of the number of tweets retrieved\n",
    "counter = 0\n",
    "\n",
    "# Loop through 5 times (total of 500 tweets)\n",
    "for x in range(1):\n",
    "\n",
    "    # Retrieve 100 most recent tweets -- specifying a max_id\n",
    "    public_tweets2 = api.search(search_term2, \n",
    "                               count=count, \n",
    "                               since=\"2014-04-03\",\n",
    "                               lang=\"en\",\n",
    "                               result_type=\"all\", \n",
    "                               max_id=oldest_tweet2)    \n",
    "    \n",
    "\n",
    "    # Print Tweets\n",
    "    for tweet in public_tweets2[\"statuses\"]:\n",
    "\n",
    "        # Print the username\n",
    "        print(tweet[\"user\"][\"screen_name\"])\n",
    "\n",
    "        # Print the tweet id\n",
    "        print(tweet[\"id_str\"])\n",
    "\n",
    "        # Print the tweet text\n",
    "        print(tweet[\"text\"])\n",
    "        \n",
    "        #Add each tweet to list of tweets\n",
    "        unique_tweets2.append(tweet[\"text\"])\n",
    "        \n",
    "        print()\n",
    "        \n",
    "        # Append tweet_id to ids list if it doesn't already exist\n",
    "        # This allows checking for duplicate tweets\n",
    "        tweet_id = tweet[\"id\"]\n",
    "        \n",
    "        if tweet_id not in unique_ids2:\n",
    "            unique_ids2.append(tweet_id)\n",
    "       \n",
    "        # Reassign the the oldest tweet (i.e. the max_id)\n",
    "        # Subtract 1 so the previous oldest isn't included\n",
    "        # in the new search\n",
    "        \n",
    "        oldest_tweet2 = tweet_id - 1\n",
    "        \n",
    "        # Increase counter by 1\n",
    "        counter += 1"
   ]
  },
  {
   "cell_type": "code",
   "execution_count": 19,
   "metadata": {},
   "outputs": [],
   "source": [
    "for tweet in public_tweets2[\"statuses\"]:\n",
    "\n",
    "    # Run Vader Analysis on each tweet\n",
    "    compound = analyzer.polarity_scores(tweet[\"text\"])[\"compound\"]\n",
    "    pos = analyzer.polarity_scores(tweet[\"text\"])[\"pos\"]\n",
    "    neu = analyzer.polarity_scores(tweet[\"text\"])[\"neu\"]\n",
    "    neg = analyzer.polarity_scores(tweet[\"text\"])[\"neg\"]\n",
    "\n",
    "    # Add each value to the appropriate array\n",
    "    compound_list2.append(compound)\n",
    "    positive_list2.append(pos)\n",
    "    negative_list2.append(neg)\n",
    "    neutral_list2.append(neu)"
   ]
  },
  {
   "cell_type": "code",
   "execution_count": 20,
   "metadata": {},
   "outputs": [],
   "source": [
    " # Store the Average Sentiments\n",
    "sentiment2 = {\"Compound\": np.mean(compound_list2),\n",
    "             \"Positive\": np.mean(positive_list2),\n",
    "             \"Neutral\": np.mean(negative_list2),\n",
    "             \"Negative\": np.mean(neutral_list2)}"
   ]
  },
  {
   "cell_type": "code",
   "execution_count": 21,
   "metadata": {},
   "outputs": [
    {
     "name": "stdout",
     "output_type": "stream",
     "text": [
      "{'Compound': 0.15284999999999999, 'Positive': 0.06, 'Neutral': 0.1055, 'Negative': 0.8345}\n"
     ]
    }
   ],
   "source": [
    "Bobboi = sentiment2\n",
    "print(sentiment2)"
   ]
  },
  {
   "cell_type": "code",
   "execution_count": 22,
   "metadata": {},
   "outputs": [
    {
     "name": "stdout",
     "output_type": "stream",
     "text": [
      "JuniperandIvy\n",
      "1055635932534034432\n",
      "@JoelKDay @alb202 @SaraLibby would we happy to speak further if you want to provide feedback at info@juniperandivy.com\n",
      "\n",
      "JoelKDay\n",
      "1055633530573676544\n",
      "@alb202 @SaraLibby @JuniperandIvy This is the correct take.\n",
      "\n",
      "VoxGoddessVO\n",
      "1055518833191145472\n",
      "Another #TBT to another incredible San Diego meal from another @richardblais restaurant: @juniperandivy!… https://t.co/ve9K4ZAgF2\n",
      "\n",
      "RevSteelToe\n",
      "1055319767429468160\n",
      "@SaraLibby @JuniperandIvy DO. NOT. MESS. WITH. OUR. BURRITOS.\n",
      "\n",
      "Bobbycressey\n",
      "1055270840512774144\n",
      "@SaraLibby @JuniperandIvy Agree\n",
      "\n",
      "jsogul\n",
      "1055269349856968704\n",
      "@SaraLibby @JuniperandIvy (that was a joke btw)\n",
      "\n",
      "jsogul\n",
      "1055269231866966016\n",
      "@SaraLibby @JuniperandIvy Probably because a lot of taco shops don't accept AmEx.\n",
      "\n",
      "IBStewards\n",
      "1055267583937568768\n",
      "@SaraLibby @JuniperandIvy Its ok.\n",
      "\n",
      "robwdavis\n",
      "1055266660880240640\n",
      "@SaraLibby @JuniperandIvy Also shat upon: Copy editing.\n",
      "\n",
      "alb202\n",
      "1055250887080398850\n",
      "@SaraLibby @JuniperandIvy Counterpoint. Juniper and Ivy is not that good.\n",
      "\n",
      "SaraLibby\n",
      "1055250412511481856\n",
      ". @JuniperandIvy is good, but why shit on San Diego, burritos and beer in your promo? https://t.co/GRe5KnXjWG\n",
      "\n",
      "mariebrill7\n",
      "1055246962860216320\n",
      "RT @AmericanExpress: .@JuniperandIvy was created to change San Diego's relationship with food from burritos and beer, to playful fine-cuisi…\n",
      "\n",
      "RichardBlais\n",
      "1055245521768472576\n",
      "RT @AmericanExpress: .@JuniperandIvy was created to change San Diego's relationship with food from burritos and beer, to playful fine-cuisi…\n",
      "\n",
      "SavioInternet\n",
      "1055194915641196544\n",
      "RT @AmericanExpress: .@JuniperandIvy was created to change San Diego's relationship with food from burritos and bee… https://t.co/dDwNFkrbm6\n",
      "\n",
      "RumblePpl\n",
      "1055189466002939904\n",
      ".JuniperandIvy was created to change San Diego's relationship with food from burritos and beer, to playful fine-cui… https://t.co/R5RRFFPdmC\n",
      "\n",
      "cstms2\n",
      "1055189229616226305\n",
      "RT AmericanExpress \".JuniperandIvy was created to change San Diego's relationship with food from burritos and beer,… https://t.co/Gl9ut3UUH9\n",
      "\n",
      "gushici2\n",
      "1055188819547471874\n",
      "AmericanExpress.JuniperandIvy was created to change San Diego's relationship with food from burritos and beer, to p… https://t.co/KETfh8pFo1\n",
      "\n",
      "AmericanExpress\n",
      "1055188437924564994\n",
      ".@JuniperandIvy was created to change San Diego's relationship with food from burritos and beer, to playful fine-cu… https://t.co/us2o8JHrD6\n",
      "\n",
      "keepingitrenal\n",
      "1054585495223595008\n",
      "Great start to #KidneyWk - catching up with friends and meeting a celebrity chef!\n",
      "\n",
      "@ASNKidney \n",
      "@JuniperandIvy… https://t.co/lUlGCln6BR\n",
      "\n",
      "tuckersarah\n",
      "1054018115187556352\n",
      "Last night, I got to meet @RichardBlais and have the meal of my life! @JuniperandIvy is spectacular - the ambience,… https://t.co/3jthG40YWP\n",
      "\n",
      "SoCal_WiFi\n",
      "1053825808739913728\n",
      "@theITrebel @RichardBlais @GetCrackShacked @JuniperandIvy Crazy foodie day\n",
      "\n",
      "theITrebel\n",
      "1053825617202835456\n",
      "@SoCal_WiFi @RichardBlais @GetCrackShacked @JuniperandIvy Now at @JuniperandIvy and the man himself @RichardBlais j… https://t.co/KK13D8UexE\n",
      "\n",
      "SoCal_WiFi\n",
      "1053825372356173824\n",
      "@theITrebel @RichardBlais @GetCrackShacked @JuniperandIvy Glad to hear it\n",
      "\n",
      "theITrebel\n",
      "1053825232031571968\n",
      "@SoCal_WiFi @RichardBlais @GetCrackShacked @JuniperandIvy Delicious. Lol.\n",
      "\n",
      "SoCal_WiFi\n",
      "1053824449168830464\n",
      "@theITrebel @RichardBlais @GetCrackShacked @JuniperandIvy What did you@think of crack shack\n",
      "\n",
      "Stephen__Cooper\n",
      "1053713852590747649\n",
      "@theITrebel @RichardBlais @GetCrackShacked @JuniperandIvy Nice! I’ll probably swing past Little Italy on my way up to LA.\n",
      "\n",
      "rowelldionicio\n",
      "1053712089196318720\n",
      "@theITrebel @RichardBlais @GetCrackShacked @JuniperandIvy You’re making delicious decisions!\n",
      "\n",
      "theITrebel\n",
      "1053711934141284353\n",
      "Today is @RichardBlais day for the wife &amp; I in #SanDiego. @GetCrackShacked for lunch and @JuniperandIvy for dinner.… https://t.co/07Cb5eelyh\n",
      "\n"
     ]
    }
   ],
   "source": [
    "# Search for People Tweeting about Juniper and Ivy\n",
    "search_term3 = \"juniperandivy\"\n",
    "\n",
    "# Create variable for holding the oldest tweet\n",
    "oldest_tweet3 = None\n",
    "\n",
    "# List to hold unique IDs\n",
    "unique_ids3 = []\n",
    "\n",
    "#List to hold unique tweets\n",
    "unique_tweets3 = []\n",
    "\n",
    "# Counter to keep track of the number of tweets retrieved\n",
    "counter = 0\n",
    "\n",
    "# Loop through 5 times (total of 500 tweets)\n",
    "for x in range(1):\n",
    "\n",
    "    # Retrieve 100 most recent tweets -- specifying a max_id\n",
    "    public_tweets3 = api.search(search_term3, \n",
    "                               count=count, \n",
    "                               since=\"2014-04-03\",\n",
    "                               lang=\"en\",\n",
    "                               result_type=\"all\", \n",
    "                               max_id=oldest_tweet3)    \n",
    "    \n",
    "\n",
    "    # Print Tweets\n",
    "    for tweet in public_tweets3[\"statuses\"]:\n",
    "\n",
    "        # Print the username\n",
    "        print(tweet[\"user\"][\"screen_name\"])\n",
    "\n",
    "        # Print the tweet id\n",
    "        print(tweet[\"id_str\"])\n",
    "\n",
    "        # Print the tweet text\n",
    "        print(tweet[\"text\"])\n",
    "        \n",
    "        #Add each tweet to list of tweets\n",
    "        unique_tweets3.append(tweet[\"text\"])\n",
    "        \n",
    "        print()\n",
    "        \n",
    "        # Append tweet_id to ids list if it doesn't already exist\n",
    "        # This allows checking for duplicate tweets\n",
    "        tweet_id = tweet[\"id\"]\n",
    "        \n",
    "        if tweet_id not in unique_ids3:\n",
    "            unique_ids3.append(tweet_id)\n",
    "       \n",
    "        # Reassign the the oldest tweet (i.e. the max_id)\n",
    "        # Subtract 1 so the previous oldest isn't included\n",
    "        # in the new search\n",
    "        \n",
    "        oldest_tweet3 = tweet_id - 1\n",
    "        \n",
    "        # Increase counter by 1\n",
    "        counter += 1"
   ]
  },
  {
   "cell_type": "code",
   "execution_count": 23,
   "metadata": {},
   "outputs": [],
   "source": [
    "for tweet in public_tweets3[\"statuses\"]:\n",
    "\n",
    "    # Run Vader Analysis on each tweet\n",
    "    compound = analyzer.polarity_scores(tweet[\"text\"])[\"compound\"]\n",
    "    pos = analyzer.polarity_scores(tweet[\"text\"])[\"pos\"]\n",
    "    neu = analyzer.polarity_scores(tweet[\"text\"])[\"neu\"]\n",
    "    neg = analyzer.polarity_scores(tweet[\"text\"])[\"neg\"]\n",
    "\n",
    "    # Add each value to the appropriate array\n",
    "    compound_list3.append(compound)\n",
    "    positive_list3.append(pos)\n",
    "    negative_list3.append(neg)\n",
    "    neutral_list3.append(neu)"
   ]
  },
  {
   "cell_type": "code",
   "execution_count": 24,
   "metadata": {},
   "outputs": [],
   "source": [
    " # Store the Average Sentiments\n",
    "sentiment3 = {\"Compound\": np.mean(compound_list3),\n",
    "             \"Positive\": np.mean(positive_list3),\n",
    "             \"Neutral\": np.mean(negative_list3),\n",
    "             \"Negative\": np.mean(neutral_list3)}"
   ]
  },
  {
   "cell_type": "code",
   "execution_count": 25,
   "metadata": {},
   "outputs": [
    {
     "name": "stdout",
     "output_type": "stream",
     "text": [
      "{'Compound': 0.20552857142857142, 'Positive': 0.16742857142857145, 'Neutral': 0.04382142857142857, 'Negative': 0.7887500000000001}\n"
     ]
    }
   ],
   "source": [
    "JnI = sentiment3\n",
    "print(sentiment3)"
   ]
  },
  {
   "cell_type": "code",
   "execution_count": 26,
   "metadata": {},
   "outputs": [
    {
     "name": "stdout",
     "output_type": "stream",
     "text": [
      "LaurenJMapp\n",
      "1056580792434995200\n",
      "Still drooling over this hen egg pizza from @hundredproofsd yesterday. .\n",
      ".\n",
      ".\n",
      ".\n",
      ".\n",
      "#pizza #pizzatime #pizzas #brunch… https://t.co/W7s1RfqC7q\n",
      "\n",
      "LaurenJMapp\n",
      "1056459927026368512\n",
      "Finally got to try the old fashioned donut, complete with orange peel glaze and whiskey syrup injections, from… https://t.co/dBz96MlbkS\n",
      "\n",
      "sdfoodgirl\n",
      "1055495118193594369\n",
      "“But baby…Wakin' up too early,\n",
      "Maybe we could sleep in, \n",
      "Make you banana pancakes, \n",
      "Pretend like its the weekend no… https://t.co/V4cPzjFMd1\n",
      "\n",
      "firstcomeslatte\n",
      "1054949857692184577\n",
      "Happy Hour at Hundred Proof with San Diego Magazine tonight. 🤗 They definitely won me over with cheeseburgers and m… https://t.co/w40wJmRZ0H\n",
      "\n",
      "DiningOutSD\n",
      "1054577324673429504\n",
      "Monday night hundredproofsd with @hungrybartender guest bartending thanks sjberto @chefbradwise chefjharville this… https://t.co/2meqWx2dzq\n",
      "\n"
     ]
    }
   ],
   "source": [
    "# Search for People Tweeting about Hundred Proof SD\n",
    "search_term4 = \"HundredProofSD\"\n",
    "\n",
    "# Create variable for holding the oldest tweet\n",
    "oldest_tweet4 = None\n",
    "\n",
    "# List to hold unique IDs\n",
    "unique_ids4 = []\n",
    "\n",
    "#List to hold unique tweets\n",
    "unique_tweets4 = []\n",
    "\n",
    "# Counter to keep track of the number of tweets retrieved\n",
    "counter = 0\n",
    "\n",
    "# Loop through 5 times (total of 500 tweets)\n",
    "for x in range(1):\n",
    "\n",
    "    # Retrieve 100 most recent tweets -- specifying a max_id\n",
    "    public_tweets4 = api.search(search_term4, \n",
    "                               count=count, \n",
    "                               since=\"2014-04-03\",\n",
    "                               lang=\"en\",\n",
    "                               result_type=\"all\", \n",
    "                               max_id=oldest_tweet4)    \n",
    "    \n",
    "\n",
    "    # Print Tweets\n",
    "    for tweet in public_tweets4[\"statuses\"]:\n",
    "\n",
    "        # Print the username\n",
    "        print(tweet[\"user\"][\"screen_name\"])\n",
    "\n",
    "        # Print the tweet id\n",
    "        print(tweet[\"id_str\"])\n",
    "\n",
    "        # Print the tweet text\n",
    "        print(tweet[\"text\"])\n",
    "        \n",
    "        #Add each tweet to list of tweets\n",
    "        unique_tweets4.append(tweet[\"text\"])\n",
    "        \n",
    "        print()\n",
    "        \n",
    "        # Append tweet_id to ids list if it doesn't already exist\n",
    "        # This allows checking for duplicate tweets\n",
    "        tweet_id = tweet[\"id\"]\n",
    "        \n",
    "        if tweet_id not in unique_ids4:\n",
    "            unique_ids4.append(tweet_id)\n",
    "       \n",
    "        # Reassign the the oldest tweet (i.e. the max_id)\n",
    "        # Subtract 1 so the previous oldest isn't included\n",
    "        # in the new search\n",
    "        \n",
    "        oldest_tweet4 = tweet_id - 1\n",
    "        \n",
    "        # Increase counter by 1\n",
    "        counter += 1"
   ]
  },
  {
   "cell_type": "code",
   "execution_count": 27,
   "metadata": {},
   "outputs": [],
   "source": [
    "for tweet in public_tweets4[\"statuses\"]:\n",
    "\n",
    "    # Run Vader Analysis on each tweet\n",
    "    compound = analyzer.polarity_scores(tweet[\"text\"])[\"compound\"]\n",
    "    pos = analyzer.polarity_scores(tweet[\"text\"])[\"pos\"]\n",
    "    neu = analyzer.polarity_scores(tweet[\"text\"])[\"neu\"]\n",
    "    neg = analyzer.polarity_scores(tweet[\"text\"])[\"neg\"]\n",
    "\n",
    "    # Add each value to the appropriate array\n",
    "    compound_list4.append(compound)\n",
    "    positive_list4.append(pos)\n",
    "    negative_list4.append(neg)\n",
    "    neutral_list4.append(neu)"
   ]
  },
  {
   "cell_type": "code",
   "execution_count": 28,
   "metadata": {},
   "outputs": [],
   "source": [
    " # Store the Average Sentiments\n",
    "sentiment4 = {\"Compound\": np.mean(compound_list4),\n",
    "             \"Positive\": np.mean(positive_list4),\n",
    "             \"Neutral\": np.mean(negative_list4),\n",
    "             \"Negative\": np.mean(neutral_list4)}"
   ]
  },
  {
   "cell_type": "code",
   "execution_count": 29,
   "metadata": {},
   "outputs": [
    {
     "name": "stdout",
     "output_type": "stream",
     "text": [
      "{'Compound': 0.31829999999999997, 'Positive': 0.13540000000000002, 'Neutral': 0.012199999999999999, 'Negative': 0.8523999999999999}\n"
     ]
    }
   ],
   "source": [
    "Hundred = sentiment4\n",
    "print(sentiment4)"
   ]
  },
  {
   "cell_type": "code",
   "execution_count": 30,
   "metadata": {},
   "outputs": [],
   "source": [
    "# Search for People Tweeting about Antique Row Cafe\n",
    "search_term5 = \"antiquerowcafe \"\n",
    "\n",
    "# Create variable for holding the oldest tweet\n",
    "oldest_tweet5 = None\n",
    "\n",
    "# List to hold unique IDs\n",
    "unique_ids5 = []\n",
    "\n",
    "#List to hold unique tweets\n",
    "unique_tweets5 = []\n",
    "\n",
    "# Counter to keep track of the number of tweets retrieved\n",
    "counter = 0\n",
    "\n",
    "# Loop through 5 times (total of 500 tweets)\n",
    "for x in range(1):\n",
    "\n",
    "    # Retrieve 100 most recent tweets -- specifying a max_id\n",
    "    public_tweets5 = api.search(search_term5, \n",
    "                               count=count, \n",
    "                               since=\"2014-04-03\",\n",
    "                               lang=\"en\",\n",
    "                               result_type=\"all\", \n",
    "                               max_id=oldest_tweet5)    \n",
    "    \n",
    "\n",
    "    # Print Tweets\n",
    "    for tweet in public_tweets5[\"statuses\"]:\n",
    "\n",
    "        # Print the username\n",
    "        print(tweet[\"user\"][\"screen_name\"])\n",
    "\n",
    "        # Print the tweet id\n",
    "        print(tweet[\"id_str\"])\n",
    "\n",
    "        # Print the tweet text\n",
    "        print(tweet[\"text\"])\n",
    "        \n",
    "        #Add each tweet to list of tweets\n",
    "        unique_tweets5.append(tweet[\"text\"])\n",
    "        \n",
    "        print()\n",
    "        \n",
    "        # Append tweet_id to ids list if it doesn't already exist\n",
    "        # This allows checking for duplicate tweets\n",
    "        tweet_id = tweet[\"id\"]\n",
    "        \n",
    "        if tweet_id not in unique_ids5:\n",
    "            unique_ids5.append(tweet_id)\n",
    "       \n",
    "        # Reassign the the oldest tweet (i.e. the max_id)\n",
    "        # Subtract 1 so the previous oldest isn't included\n",
    "        # in the new search\n",
    "        \n",
    "        oldest_tweet5 = tweet_id - 1\n",
    "        \n",
    "        # Increase counter by 1\n",
    "        counter += 1"
   ]
  },
  {
   "cell_type": "code",
   "execution_count": 31,
   "metadata": {},
   "outputs": [],
   "source": [
    "# Search for People Tweeting about Born and raised Steak\n",
    "search_term6 = \"bornandraisedsteak\"\n",
    "\n",
    "# Create variable for holding the oldest tweet\n",
    "oldest_tweet6 = None\n",
    "\n",
    "# List to hold unique IDs\n",
    "unique_ids6 = []\n",
    "\n",
    "#List to hold unique tweets\n",
    "unique_tweets6 = []\n",
    "\n",
    "# Counter to keep track of the number of tweets retrieved\n",
    "counter = 0\n",
    "\n",
    "# Loop through 5 times (total of 500 tweets)\n",
    "for x in range(1):\n",
    "\n",
    "    # Retrieve 100 most recent tweets -- specifying a max_id\n",
    "    public_tweets6 = api.search(search_term6, \n",
    "                               count=count, \n",
    "                               since=\"2014-04-03\",\n",
    "                               lang=\"en\",\n",
    "                               result_type=\"all\", \n",
    "                               max_id=oldest_tweet6)    \n",
    "    \n",
    "\n",
    "    # Print Tweets\n",
    "    for tweet in public_tweets6[\"statuses\"]:\n",
    "\n",
    "        # Print the username\n",
    "        print(tweet[\"user\"][\"screen_name\"])\n",
    "\n",
    "        # Print the tweet id\n",
    "        print(tweet[\"id_str\"])\n",
    "\n",
    "        # Print the tweet text\n",
    "        print(tweet[\"text\"])\n",
    "        \n",
    "        #Add each tweet to list of tweets\n",
    "        unique_tweets6.append(tweet[\"text\"])\n",
    "        \n",
    "        print()\n",
    "        \n",
    "        # Append tweet_id to ids list if it doesn't already exist\n",
    "        # This allows checking for duplicate tweets\n",
    "        tweet_id = tweet[\"id\"]\n",
    "        \n",
    "        if tweet_id not in unique_ids6:\n",
    "            unique_ids6.append(tweet_id)\n",
    "       \n",
    "        # Reassign the the oldest tweet (i.e. the max_id)\n",
    "        # Subtract 1 so the previous oldest isn't included\n",
    "        # in the new search\n",
    "        \n",
    "        oldest_tweet6 = tweet_id - 1\n",
    "        \n",
    "        # Increase counter by 1\n",
    "        counter += 1"
   ]
  },
  {
   "cell_type": "code",
   "execution_count": 32,
   "metadata": {},
   "outputs": [
    {
     "name": "stdout",
     "output_type": "stream",
     "text": [
      "lionfishsd\n",
      "1056618858268758017\n",
      "You #uni live once. 📷 @robertxreyes https://t.co/nll9V4BwKW\n",
      "\n",
      "lionfishsd\n",
      "1055954229230211072\n",
      "A modern take on a timeless classic by @jojosd66: The BLT #gethooked\n",
      "📷 @hauteknife https://t.co/6uQ9yPHgi7\n",
      "\n",
      "lionfishsd\n",
      "1055183903915458560\n",
      "All that is missing is you... #gethooked 📷 @maddiebroderick https://t.co/sTKgIMJtLS\n",
      "\n",
      "lionfishsd\n",
      "1054404265299623936\n",
      "A sip is the best way to start the week. Kick off the work week with Happy Hour from 5-7. #gethooked https://t.co/96qoKltyAQ\n",
      "\n",
      "4ChambeResearch\n",
      "1054125899262570496\n",
      "Beautiful dinner @lionfishsd with a friend in town for #MAGIWest #ClinicalResearch Started with a dozen of theses b… https://t.co/Pxk5a74iqc\n",
      "\n",
      "lionfishsd\n",
      "1053719253134856192\n",
      "If you can't take the heat, stay out of the kitchen #gethooked 📷 @robertxreyes https://t.co/TiR4kzNXfu\n",
      "\n"
     ]
    }
   ],
   "source": [
    "# Search for People Tweeting about Lionfish\n",
    "search_term7 = \"lionfishsd\"\n",
    "\n",
    "# Create variable for holding the oldest tweet\n",
    "oldest_tweet7 = None\n",
    "\n",
    "# List to hold unique IDs\n",
    "unique_ids7 = []\n",
    "\n",
    "#List to hold unique tweets\n",
    "unique_tweets7 = []\n",
    "\n",
    "# Counter to keep track of the number of tweets retrieved\n",
    "counter = 0\n",
    "\n",
    "# Loop through 5 times (total of 500 tweets)\n",
    "for x in range(1):\n",
    "\n",
    "    # Retrieve 100 most recent tweets -- specifying a max_id\n",
    "    public_tweets7 = api.search(search_term7, \n",
    "                               count=count, \n",
    "                               since=\"2014-04-03\",\n",
    "                               lang=\"en\",\n",
    "                               result_type=\"all\", \n",
    "                               max_id=oldest_tweet7)    \n",
    "    \n",
    "\n",
    "    # Print Tweets\n",
    "    for tweet in public_tweets7[\"statuses\"]:\n",
    "\n",
    "        # Print the username\n",
    "        print(tweet[\"user\"][\"screen_name\"])\n",
    "\n",
    "        # Print the tweet id\n",
    "        print(tweet[\"id_str\"])\n",
    "\n",
    "        # Print the tweet text\n",
    "        print(tweet[\"text\"])\n",
    "        \n",
    "        #Add each tweet to list of tweets\n",
    "        unique_tweets7.append(tweet[\"text\"])\n",
    "        \n",
    "        print()\n",
    "        \n",
    "        # Append tweet_id to ids list if it doesn't already exist\n",
    "        # This allows checking for duplicate tweets\n",
    "        tweet_id = tweet[\"id\"]\n",
    "        \n",
    "        if tweet_id not in unique_ids7:\n",
    "            unique_ids7.append(tweet_id)\n",
    "       \n",
    "        # Reassign the the oldest tweet (i.e. the max_id)\n",
    "        # Subtract 1 so the previous oldest isn't included\n",
    "        # in the new search\n",
    "        \n",
    "        oldest_tweet7 = tweet_id - 1\n",
    "        \n",
    "        # Increase counter by 1\n",
    "        counter += 1"
   ]
  },
  {
   "cell_type": "code",
   "execution_count": 33,
   "metadata": {},
   "outputs": [],
   "source": [
    "for tweet in public_tweets4[\"statuses\"]:\n",
    "\n",
    "    # Run Vader Analysis on each tweet\n",
    "    compound = analyzer.polarity_scores(tweet[\"text\"])[\"compound\"]\n",
    "    pos = analyzer.polarity_scores(tweet[\"text\"])[\"pos\"]\n",
    "    neu = analyzer.polarity_scores(tweet[\"text\"])[\"neu\"]\n",
    "    neg = analyzer.polarity_scores(tweet[\"text\"])[\"neg\"]\n",
    "\n",
    "    # Add each value to the appropriate array\n",
    "    compound_list7.append(compound)\n",
    "    positive_list7.append(pos)\n",
    "    negative_list7.append(neg)\n",
    "    neutral_list7.append(neu)"
   ]
  },
  {
   "cell_type": "code",
   "execution_count": 34,
   "metadata": {},
   "outputs": [],
   "source": [
    " # Store the Average Sentiments\n",
    "sentiment7 = {\"Compound\": np.mean(compound_list7),\n",
    "             \"Positive\": np.mean(positive_list7),\n",
    "             \"Neutral\": np.mean(negative_list7),\n",
    "             \"Negative\": np.mean(neutral_list7)}"
   ]
  },
  {
   "cell_type": "code",
   "execution_count": 35,
   "metadata": {},
   "outputs": [
    {
     "name": "stdout",
     "output_type": "stream",
     "text": [
      "{'Compound': 0.31829999999999997, 'Positive': 0.13540000000000002, 'Neutral': 0.012199999999999999, 'Negative': 0.8523999999999999}\n"
     ]
    }
   ],
   "source": [
    "LionFish = sentiment7\n",
    "print(sentiment7)"
   ]
  },
  {
   "cell_type": "code",
   "execution_count": 36,
   "metadata": {},
   "outputs": [],
   "source": [
    "# Search for People Tweeting about Havana 1920\n",
    "search_term8 = \"havana 1920 sd\"\n",
    "\n",
    "# Create variable for holding the oldest tweet\n",
    "oldest_tweet8 = None\n",
    "\n",
    "# List to hold unique IDs\n",
    "unique_ids8 = []\n",
    "\n",
    "#List to hold unique tweets\n",
    "unique_tweets8 = []\n",
    "\n",
    "# Counter to keep track of the number of tweets retrieved\n",
    "counter = 0\n",
    "\n",
    "# Loop through 5 times (total of 500 tweets)\n",
    "for x in range(1):\n",
    "\n",
    "    # Retrieve 100 most recent tweets -- specifying a max_id\n",
    "    public_tweets8 = api.search(search_term8, \n",
    "                               count=count, \n",
    "                               since=\"2014-04-03\",\n",
    "                               lang=\"en\",\n",
    "                               result_type=\"all\", \n",
    "                               max_id=oldest_tweet8)    \n",
    "    \n",
    "\n",
    "    # Print Tweets\n",
    "    for tweet in public_tweets8[\"statuses\"]:\n",
    "\n",
    "        # Print the username\n",
    "        print(tweet[\"user\"][\"screen_name\"])\n",
    "\n",
    "        # Print the tweet id\n",
    "        print(tweet[\"id_str\"])\n",
    "\n",
    "        # Print the tweet text\n",
    "        print(tweet[\"text\"])\n",
    "        \n",
    "        #Add each tweet to list of tweets\n",
    "        unique_tweets8.append(tweet[\"text\"])\n",
    "        \n",
    "        print()\n",
    "        \n",
    "        # Append tweet_id to ids list if it doesn't already exist\n",
    "        # This allows checking for duplicate tweets\n",
    "        tweet_id = tweet[\"id\"]\n",
    "        \n",
    "        if tweet_id not in unique_ids8:\n",
    "            unique_ids8.append(tweet_id)\n",
    "       \n",
    "        # Reassign the the oldest tweet (i.e. the max_id)\n",
    "        # Subtract 1 so the previous oldest isn't included\n",
    "        # in the new search\n",
    "        \n",
    "        oldest_tweet8 = tweet_id - 1\n",
    "        \n",
    "        # Increase counter by 1\n",
    "        counter += 1"
   ]
  },
  {
   "cell_type": "code",
   "execution_count": 37,
   "metadata": {},
   "outputs": [],
   "source": [
    "# Search for People Tweeting about 608 restaurant\n",
    "search_term9 = \"608restaurant\"\n",
    "\n",
    "# Create variable for holding the oldest tweet\n",
    "oldest_tweet9 = None\n",
    "\n",
    "# List to hold unique IDs\n",
    "unique_ids9 = []\n",
    "\n",
    "#List to hold unique tweets\n",
    "unique_tweets9 = []\n",
    "\n",
    "# Counter to keep track of the number of tweets retrieved\n",
    "counter = 0\n",
    "\n",
    "# Loop through 5 times (total of 500 tweets)\n",
    "for x in range(1):\n",
    "\n",
    "    # Retrieve 100 most recent tweets -- specifying a max_id\n",
    "    public_tweets9 = api.search(search_term9, \n",
    "                               count=count, \n",
    "                               since=\"2014-04-03\",\n",
    "                               lang=\"en\",\n",
    "                               result_type=\"all\", \n",
    "                               max_id=oldest_tweet9)    \n",
    "    \n",
    "\n",
    "    # Print Tweets\n",
    "    for tweet in public_tweets9[\"statuses\"]:\n",
    "\n",
    "        # Print the username\n",
    "        print(tweet[\"user\"][\"screen_name\"])\n",
    "\n",
    "        # Print the tweet id\n",
    "        print(tweet[\"id_str\"])\n",
    "\n",
    "        # Print the tweet text\n",
    "        print(tweet[\"text\"])\n",
    "        \n",
    "        #Add each tweet to list of tweets\n",
    "        unique_tweets9.append(tweet[\"text\"])\n",
    "        \n",
    "        print()\n",
    "        \n",
    "        # Append tweet_id to ids list if it doesn't already exist\n",
    "        # This allows checking for duplicate tweets\n",
    "        tweet_id = tweet[\"id\"]\n",
    "        \n",
    "        if tweet_id not in unique_ids9:\n",
    "            unique_ids9.append(tweet_id)\n",
    "       \n",
    "        # Reassign the the oldest tweet (i.e. the max_id)\n",
    "        # Subtract 1 so the previous oldest isn't included\n",
    "        # in the new search\n",
    "        \n",
    "        oldest_tweet9 = tweet_id - 1\n",
    "        \n",
    "        # Increase counter by 1\n",
    "        counter += 1"
   ]
  },
  {
   "cell_type": "code",
   "execution_count": 38,
   "metadata": {},
   "outputs": [],
   "source": [
    "# Search for People Tweeting about 1500 Ocean\n",
    "search_term10 = \"1500Ocean\"\n",
    "\n",
    "# Create variable for holding the oldest tweet\n",
    "oldest_tweet10 = None\n",
    "\n",
    "# List to hold unique IDs\n",
    "unique_ids10 = []\n",
    "\n",
    "#List to hold unique tweets\n",
    "unique_tweets10 = []\n",
    "\n",
    "# Counter to keep track of the number of tweets retrieved\n",
    "counter = 0\n",
    "\n",
    "# Loop through 5 times (total of 500 tweets)\n",
    "for x in range(1):\n",
    "\n",
    "    # Retrieve 100 most recent tweets -- specifying a max_id\n",
    "    public_tweets10 = api.search(search_term10, \n",
    "                               count=count, \n",
    "                               since=\"2014-04-03\",\n",
    "                               lang=\"en\",\n",
    "                               result_type=\"all\", \n",
    "                               max_id=oldest_tweet10)    \n",
    "    \n",
    "\n",
    "    # Print Tweets\n",
    "    for tweet in public_tweets10[\"statuses\"]:\n",
    "\n",
    "        # Print the username\n",
    "        print(tweet[\"user\"][\"screen_name\"])\n",
    "\n",
    "        # Print the tweet id\n",
    "        print(tweet[\"id_str\"])\n",
    "\n",
    "        # Print the tweet text\n",
    "        print(tweet[\"text\"])\n",
    "        \n",
    "        #Add each tweet to list of tweets\n",
    "        unique_tweets7.append(tweet[\"text\"])\n",
    "        \n",
    "        print()\n",
    "        \n",
    "        # Append tweet_id to ids list if it doesn't already exist\n",
    "        # This allows checking for duplicate tweets\n",
    "        tweet_id = tweet[\"id\"]\n",
    "        \n",
    "        if tweet_id not in unique_ids10:\n",
    "            unique_ids10.append(tweet_id)\n",
    "       \n",
    "        # Reassign the the oldest tweet (i.e. the max_id)\n",
    "        # Subtract 1 so the previous oldest isn't included\n",
    "        # in the new search\n",
    "        \n",
    "        oldest_tweet10 = tweet_id - 1\n",
    "        \n",
    "        # Increase counter by 1\n",
    "        counter += 1"
   ]
  },
  {
   "cell_type": "code",
   "execution_count": 39,
   "metadata": {},
   "outputs": [
    {
     "data": {
      "text/plain": [
       "{'Compound': 0.0, 'Positive': 0.0, 'Neutral': 0.0, 'Negative': 1.0}"
      ]
     },
     "execution_count": 39,
     "metadata": {},
     "output_type": "execute_result"
    }
   ],
   "source": [
    "Pokewan"
   ]
  },
  {
   "cell_type": "code",
   "execution_count": 40,
   "metadata": {},
   "outputs": [
    {
     "data": {
      "image/png": "[encoded data removed]",
      "text/plain": [
       "<Figure size 432x288 with 1 Axes>"
      ]
     },
     "metadata": {},
     "output_type": "display_data"
    }
   ],
   "source": [
    "graph1 = [np.mean(compound_list), np.mean(positive_list), np.mean(negative_list), np.mean(neutral_list)]\n",
    "x_axis = np.arange(len(graph1)) \n",
    "\n",
    "plt.bar(x_axis, graph1, color='r', alpha=0.5, align=\"center\")\n",
    "\n",
    "tick_locations = [value for value in x_axis]\n",
    "plt.xticks(tick_locations, [\"Compound\", \"Positive\", \"Negative\", \"Neutral\"])\n",
    "\n",
    " # Give our chart some labels and a tile\n",
    "plt.title(\"Vader Analysis for Tweets about Pokewan SD\")\n",
    "plt.xlabel(\"Sentiment Type\")\n",
    "plt.ylabel(\"Score\")\n",
    "\n",
    " # Sets the y limits of the current chart\n",
    "plt.ylim(0, 1.2)\n",
    "\n",
    "#Date\n",
    "date_string = time.strftime(\"%Y-%m-%d-%H:%M\")\n",
    "\n",
    "# Save the figure\n",
    "plt.savefig(\"Pictures/Pokewan \" + date_string + \".png\")"
   ]
  },
  {
   "cell_type": "code",
   "execution_count": 41,
   "metadata": {},
   "outputs": [
    {
     "data": {
      "text/plain": [
       "{'Compound': 0.15284999999999999,\n",
       " 'Positive': 0.06,\n",
       " 'Neutral': 0.1055,\n",
       " 'Negative': 0.8345}"
      ]
     },
     "execution_count": 41,
     "metadata": {},
     "output_type": "execute_result"
    }
   ],
   "source": [
    "Bobboi"
   ]
  },
  {
   "cell_type": "code",
   "execution_count": 42,
   "metadata": {},
   "outputs": [
    {
     "data": {
      "image/png": "[encoded data removed]",
      "text/plain": [
       "<Figure size 432x288 with 1 Axes>"
      ]
     },
     "metadata": {},
     "output_type": "display_data"
    }
   ],
   "source": [
    "graph2 = [np.mean(compound_list2), np.mean(positive_list2), np.mean(negative_list2), np.mean(neutral_list2)]\n",
    "x_axis = np.arange(len(graph1)) \n",
    "\n",
    "plt.bar(x_axis, graph2, color='r', alpha=0.5, align=\"center\")\n",
    "\n",
    "tick_locations = [value for value in x_axis]\n",
    "plt.xticks(tick_locations, [\"Compound\", \"Positive\", \"Negative\", \"Neutral\"])\n",
    "\n",
    " # Give our chart some labels and a tile\n",
    "plt.title(\"Vader Analysis for Tweets about Bobboi Gelato\")\n",
    "plt.xlabel(\"Sentiment Type\")\n",
    "plt.ylabel(\"Score\")\n",
    "\n",
    " # Sets the y limits of the current chart\n",
    "plt.ylim(0, 1.2)\n",
    "\n",
    "# Save the figure\n",
    "plt.savefig(\"Pictures/Bobboi \" + date_string +  \".png\")"
   ]
  },
  {
   "cell_type": "code",
   "execution_count": 43,
   "metadata": {},
   "outputs": [
    {
     "data": {
      "text/plain": [
       "{'Compound': 0.20552857142857142,\n",
       " 'Positive': 0.16742857142857145,\n",
       " 'Neutral': 0.04382142857142857,\n",
       " 'Negative': 0.7887500000000001}"
      ]
     },
     "execution_count": 43,
     "metadata": {},
     "output_type": "execute_result"
    }
   ],
   "source": [
    "JnI"
   ]
  },
  {
   "cell_type": "code",
   "execution_count": 44,
   "metadata": {},
   "outputs": [
    {
     "data": {
      "image/png": "[encoded data removed]",
      "text/plain": [
       "<Figure size 432x288 with 1 Axes>"
      ]
     },
     "metadata": {},
     "output_type": "display_data"
    }
   ],
   "source": [
    "graph3 = [np.mean(compound_list3), np.mean(positive_list3), np.mean(negative_list3), np.mean(neutral_list3)]\n",
    "x_axis = np.arange(len(graph3)) \n",
    "\n",
    "plt.bar(x_axis, graph3, color='r', alpha=0.5, align=\"center\")\n",
    "\n",
    "tick_locations = [value for value in x_axis]\n",
    "plt.xticks(tick_locations, [\"Compound\", \"Positive\", \"Negative\", \"Neutral\"])\n",
    "\n",
    " # Give our chart some labels and a tile\n",
    "plt.title(\"Vader Analysis for Tweets about Juniper and Ivy\")\n",
    "plt.xlabel(\"Sentiment Type\")\n",
    "plt.ylabel(\"Score\")\n",
    "\n",
    " # Sets the y limits of the current chart\n",
    "plt.ylim(0, 1.2)\n",
    "\n",
    "# Save the figure\n",
    "plt.savefig(\"Pictures/JnI \" + date_string + \".png\")"
   ]
  },
  {
   "cell_type": "code",
   "execution_count": 45,
   "metadata": {},
   "outputs": [
    {
     "data": {
      "text/plain": [
       "{'Compound': 0.31829999999999997,\n",
       " 'Positive': 0.13540000000000002,\n",
       " 'Neutral': 0.012199999999999999,\n",
       " 'Negative': 0.8523999999999999}"
      ]
     },
     "execution_count": 45,
     "metadata": {},
     "output_type": "execute_result"
    }
   ],
   "source": [
    "Hundred"
   ]
  },
  {
   "cell_type": "code",
   "execution_count": 46,
   "metadata": {},
   "outputs": [
    {
     "data": {
      "image/png": "[encoded data removed]",
      "text/plain": [
       "<Figure size 432x288 with 1 Axes>"
      ]
     },
     "metadata": {},
     "output_type": "display_data"
    }
   ],
   "source": [
    "graph4 = [np.mean(compound_list4), np.mean(positive_list4), np.mean(negative_list4), np.mean(neutral_list4)]\n",
    "x_axis = np.arange(len(graph1)) \n",
    "\n",
    "plt.bar(x_axis, graph4, color='r', alpha=0.5, align=\"center\")\n",
    "\n",
    "tick_locations = [value for value in x_axis]\n",
    "plt.xticks(tick_locations, [\"Compound\", \"Positive\", \"Negative\", \"Neutral\"])\n",
    "\n",
    " # Give our chart some labels and a tile\n",
    "plt.title(\"Vader Analysis for Tweets about Hundred Proof SD\")\n",
    "plt.xlabel(\"Sentiment Type\")\n",
    "plt.ylabel(\"Score\")\n",
    "\n",
    " # Sets the y limits of the current chart\n",
    "plt.ylim(0, 1.2)\n",
    "\n",
    "# Save the figure\n",
    "plt.savefig(\"Pictures/Hundred \" + date_string + \".png\")"
   ]
  },
  {
   "cell_type": "code",
   "execution_count": 47,
   "metadata": {},
   "outputs": [
    {
     "data": {
      "text/plain": [
       "{'Compound': 0.31829999999999997,\n",
       " 'Positive': 0.13540000000000002,\n",
       " 'Neutral': 0.012199999999999999,\n",
       " 'Negative': 0.8523999999999999}"
      ]
     },
     "execution_count": 47,
     "metadata": {},
     "output_type": "execute_result"
    }
   ],
   "source": [
    "LionFish"
   ]
  },
  {
   "cell_type": "code",
   "execution_count": 48,
   "metadata": {},
   "outputs": [
    {
     "data": {
      "image/png": "[encoded data removed]",
      "text/plain": [
       "<Figure size 432x288 with 1 Axes>"
      ]
     },
     "metadata": {},
     "output_type": "display_data"
    }
   ],
   "source": [
    "graph7 = [np.mean(compound_list7), np.mean(positive_list7), np.mean(negative_list7), np.mean(neutral_list7)]\n",
    "x_axis = np.arange(len(graph1)) \n",
    "\n",
    "plt.bar(x_axis, graph7, color='r', alpha=0.5, align=\"center\")\n",
    "\n",
    "tick_locations = [value for value in x_axis]\n",
    "plt.xticks(tick_locations, [\"Compound\", \"Positive\", \"Negative\", \"Neutral\"])\n",
    "\n",
    " # Give our chart some labels and a tile\n",
    "plt.title(\"Vader Analysis for Tweets about LionFish SD\")\n",
    "plt.xlabel(\"Sentiment Type\")\n",
    "plt.ylabel(\"Score\")\n",
    "\n",
    " # Sets the y limits of the current chart\n",
    "plt.ylim(0, 1.2)\n",
    "\n",
    "# Save the figure\n",
    "plt.savefig(\"Pictures/LionFish\" + date_string + \".png\")"
   ]
  },
  {
   "cell_type": "code",
   "execution_count": null,
   "metadata": {},
   "outputs": [],
   "source": []
  },
  {
   "cell_type": "code",
   "execution_count": null,
   "metadata": {},
   "outputs": [],
   "source": []
  }
 ],
 "metadata": {
  "kernelspec": {
   "display_name": "Python 3",
   "language": "python",
   "name": "python3"
  },
  "language_info": {
   "codemirror_mode": {
    "name": "ipython",
    "version": 3
   },
   "file_extension": ".py",
   "mimetype": "text/x-python",
   "name": "python",
   "nbconvert_exporter": "python",
   "pygments_lexer": "ipython3",
   "version": "3.6.5"
  }
 },
 "nbformat": 4,
 "nbformat_minor": 2
}
